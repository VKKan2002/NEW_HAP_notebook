{
 "cells": [
  {
   "cell_type": "code",
   "execution_count": 1,
   "id": "fe921707-8143-4cdb-844b-ec127a2d65ef",
   "metadata": {},
   "outputs": [],
   "source": [
    "# Import necessary libraries\n",
    "from imblearn.over_sampling import SMOTE\n",
    "import numpy as np\n",
    "import pandas as pd\n",
    "import matplotlib.pyplot as plt \n",
    "import seaborn as sns\n",
    "from sklearn.model_selection import train_test_split\n",
    "from sklearn.linear_model import LogisticRegression\n",
    "from sklearn.ensemble import RandomForestClassifier, AdaBoostClassifier, GradientBoostingClassifier\n",
    "from sklearn.tree import DecisionTreeClassifier\n",
    "from sklearn.preprocessing import StandardScaler, LabelEncoder, OneHotEncoder\n",
    "from sklearn.metrics import classification_report\n",
    "from sklearn.metrics import accuracy_score,confusion_matrix,f1_score,recall_score,precision_score\n",
    "from xgboost import XGBClassifier"
   ]
  },
  {
   "cell_type": "code",
   "execution_count": 2,
   "id": "8a47d5ad-aed7-4152-ab70-228863d9ed48",
   "metadata": {},
   "outputs": [],
   "source": [
    "df = pd.read_csv(\"heart_attack_prediction_dataset.csv\")"
   ]
  },
  {
   "cell_type": "code",
   "execution_count": 3,
   "id": "8a9ed9dc-c906-4c51-9dd4-25f869c3057c",
   "metadata": {},
   "outputs": [],
   "source": [
    "# Drop Irrelevant Columns\n",
    "df=df.drop(columns={'Patient ID','Country',\n",
    "       'Continent', 'Hemisphere','Income'})"
   ]
  },
  {
   "cell_type": "code",
   "execution_count": 4,
   "id": "3ee71198-86ab-4f01-9b08-bae8a3e93f9f",
   "metadata": {},
   "outputs": [],
   "source": [
    "# Divide blood pressure into two different variables\n",
    "df[['Systolic','Dystolic']]=df['Blood Pressure'].str.split('/',expand=True).astype(int)\n",
    "df=df.drop(columns={'Blood Pressure'})"
   ]
  },
  {
   "cell_type": "code",
   "execution_count": 5,
   "id": "58d08f47-f9ac-4cc2-836b-a9cfd48d3749",
   "metadata": {},
   "outputs": [],
   "source": [
    "#Encode variables\n",
    "label_encoder = LabelEncoder()\n",
    "df['Sex'] = label_encoder.fit_transform(df['Sex'])\n",
    "df = pd.get_dummies(df, columns=['Diet'], drop_first=True)"
   ]
  },
  {
   "cell_type": "code",
   "execution_count": 6,
   "id": "deb8be68-a6b9-48a6-adc0-fffcd9e7652d",
   "metadata": {},
   "outputs": [],
   "source": [
    "X = df.drop('Heart Attack Risk', axis=1)\n",
    "y = df['Heart Attack Risk']"
   ]
  },
  {
   "cell_type": "code",
   "execution_count": 8,
   "id": "06c68356-ee6e-4655-bfac-eaa96610b342",
   "metadata": {},
   "outputs": [
    {
     "name": "stderr",
     "output_type": "stream",
     "text": [
      "C:\\Users\\venka\\anaconda3\\lib\\site-packages\\sklearn\\base.py:474: FutureWarning: `BaseEstimator._validate_data` is deprecated in 1.6 and will be removed in 1.7. Use `sklearn.utils.validation.validate_data` instead. This function becomes public and is part of the scikit-learn developer API.\n",
      "  warnings.warn(\n"
     ]
    }
   ],
   "source": [
    "# Split the data into training and test sets\n",
    "X_train, X_test, y_train, y_test = train_test_split(X, y, test_size=0.25, random_state=42)\n",
    "\n",
    "# Apply StandardScaler to the training data (for models that require standardization)\n",
    "scaler = StandardScaler()\n",
    "X_train_scaled = scaler.fit_transform(X_train)\n",
    "X_test_scaled = scaler.transform(X_test)  # Scale the test data using the same scaler\n",
    "\n",
    "# Apply SMOTE to the scaled training data\n",
    "smote = SMOTE(random_state=42)\n",
    "X_train_resampled_scaled, y_train_resampled = smote.fit_resample(X_train_scaled, y_train)\n",
    "\n"
   ]
  },
  {
   "cell_type": "code",
   "execution_count": 9,
   "id": "63c5f432-0d3e-45cc-a38a-2e5651ecd58f",
   "metadata": {},
   "outputs": [],
   "source": [
    "# Define models\n",
    "models_require_standardization = {\n",
    "    'Logistic Regression': LogisticRegression(),\n",
    "}\n",
    "\n",
    "models_no_standardization = {\n",
    "    'Decision Tree': DecisionTreeClassifier(),\n",
    "    'Random Forest': RandomForestClassifier(),\n",
    "    'AdaBoost': AdaBoostClassifier(),\n",
    "    'Gradient Boosting': GradientBoostingClassifier()\n",
    "}\n",
    "\n",
    "metrics = {\n",
    "    'Model': [],\n",
    "    'Accuracy': [],\n",
    "    'Precision': [],\n",
    "    'Recall':[],\n",
    "    'F1':[],\n",
    "    'Confusion Matrix':[],\n",
    "    'Classification Report':[]\n",
    "}\n"
   ]
  },
  {
   "cell_type": "code",
   "execution_count": 10,
   "id": "ff7f4e6b-18aa-455c-9aeb-aeb2e0d482aa",
   "metadata": {},
   "outputs": [
    {
     "name": "stdout",
     "output_type": "stream",
     "text": [
      "Model: Logistic Regression\n",
      "Confusion Matrix:\n",
      "[[723 692]\n",
      " [391 385]]\n",
      "Accuracy: 50.57%\n",
      "Precision: 35.75%\n",
      "Recall: 49.61%\n",
      "F1-Score: 0.42\n",
      "Classification Report:\n",
      "              precision    recall  f1-score   support\n",
      "\n",
      "           0       0.65      0.51      0.57      1415\n",
      "           1       0.36      0.50      0.42       776\n",
      "\n",
      "    accuracy                           0.51      2191\n",
      "   macro avg       0.50      0.50      0.49      2191\n",
      "weighted avg       0.55      0.51      0.52      2191\n",
      "\n",
      "--------------------------------------------------\n"
     ]
    },
    {
     "name": "stderr",
     "output_type": "stream",
     "text": [
      "C:\\Users\\venka\\anaconda3\\lib\\site-packages\\sklearn\\base.py:474: FutureWarning: `BaseEstimator._validate_data` is deprecated in 1.6 and will be removed in 1.7. Use `sklearn.utils.validation.validate_data` instead. This function becomes public and is part of the scikit-learn developer API.\n",
      "  warnings.warn(\n"
     ]
    },
    {
     "name": "stdout",
     "output_type": "stream",
     "text": [
      "Model: Decision Tree\n",
      "Confusion Matrix:\n",
      "[[824 591]\n",
      " [444 332]]\n",
      "Accuracy: 52.76%\n",
      "Precision: 35.97%\n",
      "Recall: 42.78%\n",
      "F1-Score: 0.39\n",
      "Classification Report:\n",
      "              precision    recall  f1-score   support\n",
      "\n",
      "           0       0.65      0.58      0.61      1415\n",
      "           1       0.36      0.43      0.39       776\n",
      "\n",
      "    accuracy                           0.53      2191\n",
      "   macro avg       0.50      0.51      0.50      2191\n",
      "weighted avg       0.55      0.53      0.54      2191\n",
      "\n",
      "--------------------------------------------------\n"
     ]
    },
    {
     "name": "stderr",
     "output_type": "stream",
     "text": [
      "C:\\Users\\venka\\anaconda3\\lib\\site-packages\\sklearn\\base.py:474: FutureWarning: `BaseEstimator._validate_data` is deprecated in 1.6 and will be removed in 1.7. Use `sklearn.utils.validation.validate_data` instead. This function becomes public and is part of the scikit-learn developer API.\n",
      "  warnings.warn(\n"
     ]
    },
    {
     "name": "stdout",
     "output_type": "stream",
     "text": [
      "Model: Random Forest\n",
      "Confusion Matrix:\n",
      "[[1106  309]\n",
      " [ 610  166]]\n",
      "Accuracy: 58.06%\n",
      "Precision: 34.95%\n",
      "Recall: 21.39%\n",
      "F1-Score: 0.27\n",
      "Classification Report:\n",
      "              precision    recall  f1-score   support\n",
      "\n",
      "           0       0.64      0.78      0.71      1415\n",
      "           1       0.35      0.21      0.27       776\n",
      "\n",
      "    accuracy                           0.58      2191\n",
      "   macro avg       0.50      0.50      0.49      2191\n",
      "weighted avg       0.54      0.58      0.55      2191\n",
      "\n",
      "--------------------------------------------------\n"
     ]
    },
    {
     "name": "stderr",
     "output_type": "stream",
     "text": [
      "C:\\Users\\venka\\anaconda3\\lib\\site-packages\\sklearn\\base.py:474: FutureWarning: `BaseEstimator._validate_data` is deprecated in 1.6 and will be removed in 1.7. Use `sklearn.utils.validation.validate_data` instead. This function becomes public and is part of the scikit-learn developer API.\n",
      "  warnings.warn(\n"
     ]
    },
    {
     "name": "stdout",
     "output_type": "stream",
     "text": [
      "Model: AdaBoost\n",
      "Confusion Matrix:\n",
      "[[890 525]\n",
      " [485 291]]\n",
      "Accuracy: 53.90%\n",
      "Precision: 35.66%\n",
      "Recall: 37.50%\n",
      "F1-Score: 0.37\n",
      "Classification Report:\n",
      "              precision    recall  f1-score   support\n",
      "\n",
      "           0       0.65      0.63      0.64      1415\n",
      "           1       0.36      0.38      0.37       776\n",
      "\n",
      "    accuracy                           0.54      2191\n",
      "   macro avg       0.50      0.50      0.50      2191\n",
      "weighted avg       0.54      0.54      0.54      2191\n",
      "\n",
      "--------------------------------------------------\n"
     ]
    },
    {
     "name": "stderr",
     "output_type": "stream",
     "text": [
      "C:\\Users\\venka\\anaconda3\\lib\\site-packages\\sklearn\\base.py:474: FutureWarning: `BaseEstimator._validate_data` is deprecated in 1.6 and will be removed in 1.7. Use `sklearn.utils.validation.validate_data` instead. This function becomes public and is part of the scikit-learn developer API.\n",
      "  warnings.warn(\n"
     ]
    },
    {
     "name": "stdout",
     "output_type": "stream",
     "text": [
      "Model: Gradient Boosting\n",
      "Confusion Matrix:\n",
      "[[949 466]\n",
      " [525 251]]\n",
      "Accuracy: 54.77%\n",
      "Precision: 35.01%\n",
      "Recall: 32.35%\n",
      "F1-Score: 0.34\n",
      "Classification Report:\n",
      "              precision    recall  f1-score   support\n",
      "\n",
      "           0       0.64      0.67      0.66      1415\n",
      "           1       0.35      0.32      0.34       776\n",
      "\n",
      "    accuracy                           0.55      2191\n",
      "   macro avg       0.50      0.50      0.50      2191\n",
      "weighted avg       0.54      0.55      0.54      2191\n",
      "\n",
      "--------------------------------------------------\n"
     ]
    }
   ],
   "source": [
    "# Train and evaluate models that require standardization\n",
    "for name, model in models_require_standardization.items():\n",
    "    # Train on resampled and scaled data\n",
    "    model.fit(X_train_resampled_scaled, y_train_resampled)\n",
    "    \n",
    "    # Predict on scaled test data\n",
    "    y_pred = model.predict(X_test_scaled)\n",
    "    \n",
    "    # Calculate metrics\n",
    "    accuracy = accuracy_score(y_test, y_pred)\n",
    "    precision = precision_score(y_test, y_pred)\n",
    "    recall = recall_score(y_test, y_pred)\n",
    "    f1 = f1_score(y_test, y_pred)\n",
    "    cm = confusion_matrix(y_test, y_pred)\n",
    "    cr = classification_report(y_test, y_pred)\n",
    "    \n",
    "    # Print results\n",
    "    print(f\"Model: {name}\")\n",
    "    print(f\"Confusion Matrix:\\n{cm}\")\n",
    "    print(f\"Accuracy: {accuracy * 100:.2f}%\")\n",
    "    print(f\"Precision: {precision * 100:.2f}%\")\n",
    "    print(f\"Recall: {recall * 100:.2f}%\")\n",
    "    print(f\"F1-Score: {f1:.2f}\")\n",
    "    print(f\"Classification Report:\\n{cr}\")\n",
    "    print(\"-\" * 50)\n",
    "\n",
    "# Train and evaluate models that do not require standardization\n",
    "for name, model in models_no_standardization.items():\n",
    "    # Apply SMOTE to the original (unscaled) training data\n",
    "    X_train_resampled, y_train_resampled = smote.fit_resample(X_train, y_train)\n",
    "    \n",
    "    # Train on resampled data (no scaling needed)\n",
    "    model.fit(X_train_resampled, y_train_resampled)\n",
    "    \n",
    "    # Predict on original test data (no scaling needed)\n",
    "    y_pred = model.predict(X_test)\n",
    "    \n",
    "    # Calculate metrics\n",
    "    accuracy = accuracy_score(y_test, y_pred)\n",
    "    precision = precision_score(y_test, y_pred)\n",
    "    recall = recall_score(y_test, y_pred)\n",
    "    f1 = f1_score(y_test, y_pred)\n",
    "    cm = confusion_matrix(y_test, y_pred)\n",
    "    cr = classification_report(y_test, y_pred)\n",
    "    \n",
    "    # Print results\n",
    "    print(f\"Model: {name}\")\n",
    "    print(f\"Confusion Matrix:\\n{cm}\")\n",
    "    print(f\"Accuracy: {accuracy * 100:.2f}%\")\n",
    "    print(f\"Precision: {precision * 100:.2f}%\")\n",
    "    print(f\"Recall: {recall * 100:.2f}%\")\n",
    "    print(f\"F1-Score: {f1:.2f}\")\n",
    "    print(f\"Classification Report:\\n{cr}\")\n",
    "    print(\"-\" * 50)"
   ]
  },
  {
   "cell_type": "code",
   "execution_count": 12,
   "id": "78580543-2bf5-4d5c-9777-4090f5d97797",
   "metadata": {},
   "outputs": [
    {
     "data": {
      "image/png": "[encoded data removed]",
      "text/plain": [
       "<Figure size 720x432 with 1 Axes>"
      ]
     },
     "metadata": {
      "needs_background": "light"
     },
     "output_type": "display_data"
    }
   ],
   "source": [
    "# PLot a bargraph of model accuracies\n",
    "metrics_df = pd.DataFrame(metrics)\n",
    "\n",
    "plt.figure(figsize=(10, 6))\n",
    "plt.bar(metrics_df['Model'], metrics_df['Accuracy'], color='deepskyblue', width=0.5)\n",
    "plt.title('Comparision of Model Accuracies', fontsize=16)\n",
    "plt.ylabel('Accuracy (%)', fontsize=14)\n",
    "plt.xlabel('Model', fontsize=14)\n",
    "plt.xticks(rotation=45)\n",
    "plt.grid(axis='y', linestyle='--')\n",
    "plt.ylim(0, 100) \n",
    "plt.show()"
   ]
  },
  {
   "cell_type": "code",
   "execution_count": null,
   "id": "958d87c0-f6e7-46d2-a917-3a7cbdf345c5",
   "metadata": {},
   "outputs": [],
   "source": []
  }
 ],
 "metadata": {
  "kernelspec": {
   "display_name": "Python 3 (ipykernel)",
   "language": "python",
   "name": "python3"
  },
  "language_info": {
   "codemirror_mode": {
    "name": "ipython",
    "version": 3
   },
   "file_extension": ".py",
   "mimetype": "text/x-python",
   "name": "python",
   "nbconvert_exporter": "python",
   "pygments_lexer": "ipython3",
   "version": "3.9.7"
  }
 },
 "nbformat": 4,
 "nbformat_minor": 5
}
